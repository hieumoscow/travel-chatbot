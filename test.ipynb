{
 "cells": [
  {
   "cell_type": "code",
   "execution_count": 1,
   "metadata": {},
   "outputs": [],
   "source": [
    "import nest_asyncio\n",
    "nest_asyncio.apply()"
   ]
  },
  {
   "cell_type": "code",
   "execution_count": 2,
   "metadata": {},
   "outputs": [
    {
     "name": "stdout",
     "output_type": "stream",
     "text": [
      "Received a message on help.please _INBOX.pHX6wtz1OBLD2Txcn4clcA.pHX6wtz1OBLD2Txcn4clgC8863: b'help'\n",
      "Response: Msg(_client=<nats client v2.9.0>, subject='_INBOX.pHX6wtz1OBLD2Txcn4clcA.pHX6wtz1OBLD2Txcn4clgC8863', reply='', data=b'OK', headers=None, _metadata=None, _ackd=False, _sid=2)\n",
      "Got disconnected!\n",
      "Connection is closed\n"
     ]
    }
   ],
   "source": [
    "import asyncio\n",
    "import nats\n",
    "\n",
    "async def main():\n",
    "    async def disconnected_cb():\n",
    "        print('Got disconnected!')\n",
    "\n",
    "    async def reconnected_cb():\n",
    "        print(f'Got reconnected to {nc.connected_url.netloc}')\n",
    "\n",
    "    async def error_cb(e):\n",
    "        print(f'There was an error: {e}')\n",
    "\n",
    "    async def closed_cb():\n",
    "        print('Connection is closed')\n",
    "\n",
    "    # Connect to NATS with logging callbacks.\n",
    "    nc = await nats.connect('localhost:4222',\n",
    "                             error_cb=error_cb,\n",
    "                             reconnected_cb=reconnected_cb,\n",
    "                             disconnected_cb=disconnected_cb,\n",
    "                             closed_cb=closed_cb,\n",
    "                             )\n",
    "\n",
    "    async def handler(msg):\n",
    "        print(f'Received a message on {msg.subject} {msg.reply}: {msg.data}')\n",
    "        await msg.respond(b'OK')\n",
    "\n",
    "    sub = await nc.subscribe('help.please', cb=handler)\n",
    "\n",
    "    resp = await nc.request('help.please', b'help')\n",
    "    print('Response:', resp)\n",
    "\n",
    "    await nc.close()\n",
    "\n",
    "if __name__ == '__main__':\n",
    "    asyncio.run(main())"
   ]
  }
 ],
 "metadata": {
  "kernelspec": {
   "display_name": "autogen",
   "language": "python",
   "name": "python3"
  },
  "language_info": {
   "codemirror_mode": {
    "name": "ipython",
    "version": 3
   },
   "file_extension": ".py",
   "mimetype": "text/x-python",
   "name": "python",
   "nbconvert_exporter": "python",
   "pygments_lexer": "ipython3",
   "version": "3.11.9"
  }
 },
 "nbformat": 4,
 "nbformat_minor": 2
}
